{
 "cells": [
  {
   "cell_type": "code",
   "execution_count": 1,
   "metadata": {},
   "outputs": [],
   "source": [
    "import pandas as pd\n",
    "from pandas import DataFrame, Series\n",
    "import matplotlib.pyplot as plt\n",
    "\n",
    "# グラフなどはNotebook内に描画\n",
    "%matplotlib inline\n",
    "\n",
    "# DataFrameの列の最大文字列長をデフォルトの50から150に変更\n",
    "pd.set_option(\"display.max_colwidth\", 150)\n"
   ]
  },
  {
   "cell_type": "code",
   "execution_count": 27,
   "metadata": {},
   "outputs": [],
   "source": [
    "from datetime import datetime\n",
    "import pytz\n",
    "\n",
    "def parse_str(x):\n",
    "    \"\"\"\n",
    "    Returns the string delimited by two characters.\n",
    "\n",
    "    Example:\n",
    "        `>>> parse_str('[my string]')`\n",
    "        `'my string'`\n",
    "    \"\"\"\n",
    "    return x[1:-1]\n",
    "\n",
    "def parse_datetime(x):\n",
    "    '''\n",
    "    Parses datetime with timezone formatted as:\n",
    "        `[day/month/year:hour:minute:second zone]`\n",
    "\n",
    "    Example:\n",
    "        `>>> parse_datetime('13/Nov/2015:11:45:42 +0000')`\n",
    "        `datetime.datetime(2015, 11, 3, 11, 45, 4, tzinfo=<UTC>)`\n",
    "\n",
    "    Due to problems parsing the timezone (`%z`) with `datetime.strptime`, the\n",
    "    timezone will be obtained using the `pytz` library.\n",
    "    '''\n",
    "    dt = datetime.strptime(x[1:-7], '%d/%b/%Y:%H:%M:%S')\n",
    "    dt_tz = int(x[-6:-3])*60+int(x[-3:-1])\n",
    "    return dt.replace(tzinfo=pytz.FixedOffset(dt_tz))"
   ]
  },
  {
   "cell_type": "code",
   "execution_count": 30,
   "metadata": {},
   "outputs": [],
   "source": [
    "import re\n",
    "import pandas as pd\n",
    "\n",
    "data = pd.read_csv(\n",
    "    'access_log',\n",
    "    sep=r'\\s(?=(?:[^\"]*\"[^\"]*\")*[^\"]*$)(?![^\\[]*\\])',\n",
    "    engine='python',\n",
    "    na_values='-',\n",
    "    header=None,\n",
    "    usecols=[0, 3, 4, 5, 6, 7, 8],\n",
    "    names=['ip', 'time', 'request', 'status', 'size', 'referer', 'user_agent'],\n",
    "    converters={'time': parse_datetime,\n",
    "                'response_time': int,\n",
    "                'request': parse_str,\n",
    "                'status': int,\n",
    "                'size': int,\n",
    "                'user_agent': parse_str})\n",
    "data.to_csv('out.csv')\n"
   ]
  }
 ],
 "metadata": {
  "kernelspec": {
   "display_name": "base",
   "language": "python",
   "name": "python3"
  },
  "language_info": {
   "codemirror_mode": {
    "name": "ipython",
    "version": 3
   },
   "file_extension": ".py",
   "mimetype": "text/x-python",
   "name": "python",
   "nbconvert_exporter": "python",
   "pygments_lexer": "ipython3",
   "version": "3.11.3"
  },
  "orig_nbformat": 4
 },
 "nbformat": 4,
 "nbformat_minor": 2
}
